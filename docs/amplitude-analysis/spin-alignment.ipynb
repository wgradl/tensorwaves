{
 "cells": [
  {
   "cell_type": "code",
   "execution_count": null,
   "metadata": {
    "hideCode": true,
    "hideOutput": true,
    "hidePrompt": true,
    "jupyter": {
     "source_hidden": true
    },
    "slideshow": {
     "slide_type": "skip"
    },
    "tags": [
     "remove-cell"
    ]
   },
   "outputs": [],
   "source": [
    "%config InlineBackend.figure_formats = ['svg']\n",
    "import os\n",
    "\n",
    "STATIC_WEB_PAGE = {\"EXECUTE_NB\", \"READTHEDOCS\"}.intersection(os.environ)"
   ]
  },
  {
   "cell_type": "code",
   "execution_count": null,
   "metadata": {
    "hideCode": true,
    "hideOutput": true,
    "hidePrompt": true,
    "jupyter": {
     "source_hidden": true
    },
    "slideshow": {
     "slide_type": "skip"
    },
    "tags": [
     "remove-cell",
     "skip-execution"
    ]
   },
   "outputs": [],
   "source": [
    "# WARNING: advised to install a specific version, e.g. tensorwaves==0.1.2\n",
    "%pip install -q tensorwaves[doc,jax,pwa,viz] IPython"
   ]
  },
  {
   "cell_type": "markdown",
   "metadata": {},
   "source": [
    "```{autolink-concat}\n",
    "```"
   ]
  },
  {
   "cell_type": "markdown",
   "metadata": {},
   "source": [
    "# Spin alignment"
   ]
  },
  {
   "cell_type": "markdown",
   "metadata": {},
   "source": [
    ":::{note}\n",
    "\n",
    "This page is a continuation of [ampform#213](https://ampform--213.org.readthedocs.build/en/213/usage/helicity/spin-alignment.html).\n",
    "\n",
    ":::"
   ]
  },
  {
   "cell_type": "markdown",
   "metadata": {},
   "source": [
    "## Create amplitude model"
   ]
  },
  {
   "cell_type": "markdown",
   "metadata": {},
   "source": [
    "```{autolink-skip}\n",
    "```"
   ]
  },
  {
   "cell_type": "code",
   "execution_count": null,
   "metadata": {
    "jupyter": {
     "source_hidden": true
    },
    "tags": [
     "hide-cell"
    ]
   },
   "outputs": [],
   "source": [
    "%config InlineBackend.figure_formats = ['svg']\n",
    "import logging\n",
    "import warnings\n",
    "\n",
    "LOGGER = logging.getLogger()\n",
    "LOGGER.setLevel(logging.ERROR)\n",
    "warnings.filterwarnings(\"ignore\")"
   ]
  },
  {
   "cell_type": "markdown",
   "metadata": {},
   "source": [
    "### Generate transitions"
   ]
  },
  {
   "cell_type": "code",
   "execution_count": null,
   "metadata": {},
   "outputs": [],
   "source": [
    "import qrules\n",
    "\n",
    "reaction = qrules.generate_transitions(\n",
    "    initial_state=(\"Lambda(c)+\", [-0.5, +0.5]),\n",
    "    final_state=[\"p\", \"K-\", \"pi+\"],\n",
    "    allowed_intermediate_particles=[\n",
    "        \"Lambda(1405)\",\n",
    "        \"Delta(1232)++\",\n",
    "        \"K*(1410)0\",\n",
    "    ],\n",
    "    formalism=\"canonical-helicity\",\n",
    "    allowed_interaction_types=[\"strong\", \"EM\", \"weak\"],\n",
    ")"
   ]
  },
  {
   "cell_type": "code",
   "execution_count": null,
   "metadata": {
    "jupyter": {
     "source_hidden": true
    },
    "tags": [
     "hide-input"
    ]
   },
   "outputs": [],
   "source": [
    "import graphviz\n",
    "\n",
    "dot = qrules.io.asdot(reaction, collapse_graphs=True, size=5)\n",
    "graphviz.Source(dot)"
   ]
  },
  {
   "cell_type": "code",
   "execution_count": null,
   "metadata": {},
   "outputs": [],
   "source": [
    "from ampform.helicity.decay import TwoBodyDecay\n",
    "\n",
    "printed_decays = set()\n",
    "for transition in reaction.transitions:\n",
    "    decay = TwoBodyDecay.from_transition(transition, node_id=1)\n",
    "    decay_products = \" \".join(map(lambda c: c.particle.name, decay.children))\n",
    "    description = f\"{decay.parent.particle.latex} → {decay_products}\"\n",
    "    if description in printed_decays:\n",
    "        continue\n",
    "    printed_decays.add(description)\n",
    "    parent_mass = decay.parent.particle.mass\n",
    "    decay_product_masses = sum(map(lambda c: c.particle.mass, decay.children))\n",
    "    if parent_mass < decay_product_masses:\n",
    "        print(\n",
    "            f\"Decay {description} lies below threshold. Parent mass:\"\n",
    "            f\" {parent_mass} < {decay_product_masses}\"\n",
    "        )"
   ]
  },
  {
   "cell_type": "markdown",
   "metadata": {},
   "source": [
    "### Formulate amplitude model"
   ]
  },
  {
   "cell_type": "code",
   "execution_count": null,
   "metadata": {},
   "outputs": [],
   "source": [
    "import ampform\n",
    "from ampform.dynamics import PhaseSpaceFactorComplex\n",
    "from ampform.dynamics.builder import RelativisticBreitWignerBuilder\n",
    "\n",
    "builder = ampform.get_builder(reaction)\n",
    "builder.stable_final_state_ids = list(reaction.final_state)\n",
    "builder.scalar_initial_state_mass = True\n",
    "add_dynamics = True\n",
    "use_form_factor = False\n",
    "if add_dynamics:\n",
    "    no_ff_bw_builder = RelativisticBreitWignerBuilder()\n",
    "    complex_bw_builder = RelativisticBreitWignerBuilder(\n",
    "        form_factor=True, phsp_factor=PhaseSpaceFactorComplex\n",
    "    )\n",
    "    bw_builder = RelativisticBreitWignerBuilder(form_factor=True)\n",
    "    for name in reaction.get_intermediate_particles().names:\n",
    "        if use_form_factor:\n",
    "            if name.startswith(\"K\"):\n",
    "                builder.set_dynamics(name, complex_bw_builder)\n",
    "            else:\n",
    "                builder.set_dynamics(name, bw_builder)\n",
    "        else:\n",
    "            builder.set_dynamics(name, no_ff_bw_builder)\n",
    "model = builder.formulate()"
   ]
  },
  {
   "cell_type": "code",
   "execution_count": null,
   "metadata": {},
   "outputs": [],
   "source": [
    "full_expression = model.expression.doit()"
   ]
  },
  {
   "cell_type": "code",
   "execution_count": null,
   "metadata": {
    "tags": [
     "remove-cell"
    ]
   },
   "outputs": [],
   "source": [
    "parameters = model.parameter_defaults\n",
    "c_par = list(parameters)[0]\n",
    "parameters[c_par] = 1"
   ]
  },
  {
   "cell_type": "code",
   "execution_count": null,
   "metadata": {},
   "outputs": [],
   "source": [
    "substituted_expression = full_expression.xreplace(parameters)\n",
    "substituted_expression = substituted_expression.xreplace({1.0: 1})"
   ]
  },
  {
   "cell_type": "code",
   "execution_count": null,
   "metadata": {
    "jupyter": {
     "source_hidden": true
    },
    "tags": [
     "hide-input"
    ]
   },
   "outputs": [],
   "source": [
    "import sympy as sp\n",
    "\n",
    "dot = sp.dotprint(model.expression, maxdepth=3, size=6, bgcolor=\"none\")\n",
    "graphviz.Source(dot)"
   ]
  },
  {
   "cell_type": "markdown",
   "metadata": {
    "tags": []
   },
   "source": [
    "## Generate data"
   ]
  },
  {
   "cell_type": "markdown",
   "metadata": {},
   "source": [
    "### Phase space sample"
   ]
  },
  {
   "cell_type": "code",
   "execution_count": null,
   "metadata": {},
   "outputs": [],
   "source": [
    "from tensorwaves.data import (\n",
    "    TFPhaseSpaceGenerator,\n",
    "    TFUniformRealNumberGenerator,\n",
    ")\n",
    "\n",
    "rng = TFUniformRealNumberGenerator(seed=0)\n",
    "phsp_generator = TFPhaseSpaceGenerator(\n",
    "    initial_state_mass=reaction.initial_state[-1].mass,\n",
    "    final_state_masses={i: p.mass for i, p in reaction.final_state.items()},\n",
    ")\n",
    "phsp_momenta = phsp_generator.generate(800_000, rng)"
   ]
  },
  {
   "cell_type": "code",
   "execution_count": null,
   "metadata": {},
   "outputs": [],
   "source": [
    "from tensorwaves.data import SympyDataTransformer\n",
    "\n",
    "helicity_transformer = SympyDataTransformer.from_sympy(\n",
    "    model.kinematic_variables, backend=\"jax\"\n",
    ")\n",
    "phsp = helicity_transformer(phsp_momenta)\n",
    "phsp = {k: v.real for k, v in phsp.items()}"
   ]
  },
  {
   "cell_type": "code",
   "execution_count": null,
   "metadata": {
    "jupyter": {
     "source_hidden": true
    },
    "tags": [
     "hide-input",
     "full-width"
    ]
   },
   "outputs": [],
   "source": [
    "import pandas as pd\n",
    "\n",
    "phsp_frame = pd.DataFrame(phsp)\n",
    "phsp_frame"
   ]
  },
  {
   "cell_type": "markdown",
   "metadata": {},
   "source": [
    "### Compute intensities"
   ]
  },
  {
   "cell_type": "code",
   "execution_count": null,
   "metadata": {},
   "outputs": [],
   "source": [
    "from tensorwaves.function.sympy import create_function\n",
    "\n",
    "fixed_intensity = create_function(substituted_expression, backend=\"jax\")"
   ]
  },
  {
   "cell_type": "code",
   "execution_count": null,
   "metadata": {},
   "outputs": [],
   "source": [
    "import numpy as np\n",
    "\n",
    "phsp_weights = np.array(fixed_intensity(phsp).real)\n",
    "phsp_weights"
   ]
  },
  {
   "cell_type": "code",
   "execution_count": null,
   "metadata": {
    "jupyter": {
     "source_hidden": true
    },
    "tags": [
     "hide-input"
    ]
   },
   "outputs": [],
   "source": [
    "import matplotlib.pyplot as plt\n",
    "\n",
    "fig, ax = plt.subplots(nrows=2, ncols=3, figsize=(8, 5))\n",
    "kwargs = dict(\n",
    "    alpha=0.7,\n",
    "    bins=80,\n",
    "    weights=phsp_weights,\n",
    ")\n",
    "\n",
    "for x in ax.flatten():\n",
    "    x.set_yticks([])\n",
    "\n",
    "ax[0, 0].set_xlabel(\"$m^2(pK^-)$\")\n",
    "ax[0, 1].set_xlabel(R\"$m^2(K^-\\pi^+)$\")\n",
    "ax[0, 2].set_xlabel(R\"$m^2(p\\pi^-)$\")\n",
    "ax[1, 0].set_xlabel(R\"$\\cos\\theta(p)$\")\n",
    "ax[1, 1].set_xlabel(R\"$\\phi(p)$\")\n",
    "ax[1, 2].set_xlabel(R\"$\\chi$\")\n",
    "\n",
    "ax[0, 0].hist(np.array(phsp[\"m_01\"] ** 2), **kwargs)\n",
    "ax[0, 1].hist(np.array(phsp[\"m_12\"] ** 2), **kwargs)\n",
    "ax[0, 2].hist(np.array(phsp[\"m_02\"] ** 2), **kwargs)\n",
    "ax[1, 0].hist(np.array(np.cos(phsp[\"theta_01\"])), **kwargs)\n",
    "ax[1, 1].hist(np.array(phsp[\"phi_01\"]), **kwargs)\n",
    "ax[1, 2].remove()\n",
    "\n",
    "fig.tight_layout()\n",
    "\n",
    "plt.show()"
   ]
  }
 ],
 "metadata": {
  "kernelspec": {
   "display_name": "Python 3 (ipykernel)",
   "language": "python",
   "name": "python3"
  },
  "language_info": {
   "name": "python",
   "version": "3.8.12"
  }
 },
 "nbformat": 4,
 "nbformat_minor": 4
}
